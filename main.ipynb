{
 "cells": [
  {
   "cell_type": "markdown",
   "metadata": {},
   "source": [
    "# Imports des librairies"
   ]
  },
  {
   "cell_type": "code",
   "execution_count": null,
   "metadata": {},
   "outputs": [],
   "source": [
    "import networkx as nx\n",
    "import matplotlib.pyplot as plt\n",
    "from PIL import Image\n",
    "from matplotlib.offsetbox import OffsetImage, AnnotationBbox\n",
    "import json"
   ]
  },
  {
   "cell_type": "markdown",
   "metadata": {},
   "source": [
    "## Chargement des données des vidéos"
   ]
  },
  {
   "cell_type": "code",
   "execution_count": null,
   "metadata": {},
   "outputs": [],
   "source": [
    "with open(\"collaborations.json\") as file:\n",
    "    collaborations_data = json.load(file)"
   ]
  },
  {
   "cell_type": "markdown",
   "metadata": {},
   "source": [
    "## Création du Graphe et ajout des collaborations"
   ]
  },
  {
   "cell_type": "code",
   "execution_count": null,
   "metadata": {},
   "outputs": [],
   "source": [
    "# Création du graphe\n",
    "G = nx.MultiGraph() \n",
    "\n",
    "# Ajout des nœuds et des arêtes avec des vidéos comme attribut\n",
    "for youTuber, collaborators in collaborations_data.items():\n",
    "    for collaborator, videos in collaborators.items():\n",
    "        for video in videos:\n",
    "            G.add_edge(youTuber, collaborator, video=video)"
   ]
  },
  {
   "cell_type": "markdown",
   "metadata": {},
   "source": [
    "## Visualisation du graphe"
   ]
  },
  {
   "cell_type": "code",
   "execution_count": null,
   "metadata": {},
   "outputs": [],
   "source": [
    "# Visualisation basique du graphe\n",
    "pos = nx.spring_layout(G)  # Positionnement des nœuds\n",
    "nx.draw(G, pos, with_labels=True)\n",
    "\n",
    "# Ajout des images redimensionnées\n",
    "for youTuber in G.nodes():\n",
    "    img_path = f\"assets/{youTuber}.png\"\n",
    "    with Image.open(img_path) as img:\n",
    "        img_resized = img.resize((250, 250))  # Redimensionner l'image\n",
    "        imagebox = OffsetImage(img_resized, zoom=0.3)\n",
    "        ab = AnnotationBbox(imagebox, pos[youTuber], frameon=False)\n",
    "        plt.gca().add_artist(ab)\n",
    "\n",
    "plt.show()"
   ]
  }
 ],
 "metadata": {
  "language_info": {
   "name": "python"
  }
 },
 "nbformat": 4,
 "nbformat_minor": 2
}
